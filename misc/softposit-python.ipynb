{
 "cells": [
  {
   "cell_type": "markdown",
   "id": "d74fbcf4",
   "metadata": {},
   "source": [
    "from this repo: https://gitlab.com/cerlane/SoftPosit-Python "
   ]
  },
  {
   "cell_type": "code",
   "execution_count": 1,
   "id": "fdf55da7",
   "metadata": {},
   "outputs": [
    {
     "name": "stdout",
     "output_type": "stream",
     "text": [
      "Mon Nov  1 16:23:27 CET 2021\r\n"
     ]
    }
   ],
   "source": [
    "!date"
   ]
  },
  {
   "cell_type": "code",
   "execution_count": 2,
   "id": "57b27b78",
   "metadata": {},
   "outputs": [
    {
     "name": "stdout",
     "output_type": "stream",
     "text": [
      "Requirement already satisfied: softposit in /Users/fran/.pyenv/shims/versions/3.9.7/lib/python3.9/site-packages (0.3.4.4)\r\n"
     ]
    }
   ],
   "source": [
    "!pip install softposit"
   ]
  },
  {
   "cell_type": "code",
   "execution_count": 15,
   "id": "1140118e",
   "metadata": {},
   "outputs": [],
   "source": [
    "import softposit as sp"
   ]
  },
  {
   "cell_type": "code",
   "execution_count": 38,
   "id": "af8ce753",
   "metadata": {},
   "outputs": [],
   "source": [
    "# !open ~/.pyenv/shims/versions/3.9.7/lib/python3.9/site-packages/softposit.py"
   ]
  },
  {
   "cell_type": "code",
   "execution_count": 29,
   "id": "20abd0ff",
   "metadata": {},
   "outputs": [
    {
     "name": "stdout",
     "output_type": "stream",
     "text": [
      "\u001b[1;37;41m0\u001b[0m\u001b[1;30;43m1110\u001b[0m\u001b[1;37;44m1\u001b[0m\u001b[1;37;40m00 11100011\u001b[0m\n"
     ]
    },
    {
     "data": {
      "text/plain": [
       "(39.09375, None)"
      ]
     },
     "execution_count": 29,
     "metadata": {},
     "output_type": "execute_result"
    }
   ],
   "source": [
    "a16 = sp.posit16(39.100)\n",
    "\n",
    "a16, a16.toBinaryFormatted()"
   ]
  },
  {
   "cell_type": "code",
   "execution_count": 30,
   "id": "0fb4fac3",
   "metadata": {},
   "outputs": [
    {
     "name": "stdout",
     "output_type": "stream",
     "text": [
      "\u001b[1;37;41m0\u001b[0m\u001b[1;30;43m1111110\u001b[0m\u001b[0m\n"
     ]
    },
    {
     "data": {
      "text/plain": [
       "(32.0, None)"
      ]
     },
     "execution_count": 30,
     "metadata": {},
     "output_type": "execute_result"
    }
   ],
   "source": [
    "# convert a 16-bit posit to 8-bit posit\n",
    "a8 = a.toPosit8() \n",
    "a8, a8.toBinaryFormatted()"
   ]
  },
  {
   "cell_type": "code",
   "execution_count": 33,
   "id": "eefd5686",
   "metadata": {},
   "outputs": [
    {
     "name": "stdout",
     "output_type": "stream",
     "text": [
      "\u001b[1;37;41m0\u001b[0m\u001b[1;30;43m1110\u001b[0m\u001b[1;37;44m1\u001b[0m\u001b[1;37;40m00 00000000\u001b[0m\n"
     ]
    },
    {
     "data": {
      "text/plain": [
       "(32.0, None)"
      ]
     },
     "execution_count": 33,
     "metadata": {},
     "output_type": "execute_result"
    }
   ],
   "source": [
    "a16 = a8.toPosit16() \n",
    "a16, a16.toBinaryFormatted()"
   ]
  },
  {
   "cell_type": "code",
   "execution_count": null,
   "id": "6a1d09d6",
   "metadata": {},
   "outputs": [],
   "source": []
  },
  {
   "cell_type": "code",
   "execution_count": null,
   "id": "eb591b61",
   "metadata": {},
   "outputs": [],
   "source": []
  }
 ],
 "metadata": {
  "kernelspec": {
   "display_name": "Python 3 (ipykernel)",
   "language": "python",
   "name": "python3"
  },
  "language_info": {
   "codemirror_mode": {
    "name": "ipython",
    "version": 3
   },
   "file_extension": ".py",
   "mimetype": "text/x-python",
   "name": "python",
   "nbconvert_exporter": "python",
   "pygments_lexer": "ipython3",
   "version": "3.9.7"
  }
 },
 "nbformat": 4,
 "nbformat_minor": 5
}
