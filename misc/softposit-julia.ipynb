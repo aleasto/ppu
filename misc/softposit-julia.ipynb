{
 "cells": [
  {
   "cell_type": "code",
   "execution_count": 2,
   "id": "eebd18e3",
   "metadata": {},
   "outputs": [],
   "source": [
    "using SoftPosit"
   ]
  },
  {
   "cell_type": "code",
   "execution_count": 3,
   "id": "b65eba27",
   "metadata": {},
   "outputs": [
    {
     "data": {
      "text/plain": [
       "Posit16(12.0)"
      ]
     },
     "execution_count": 3,
     "metadata": {},
     "output_type": "execute_result"
    }
   ],
   "source": [
    "a = Posit16(12)"
   ]
  },
  {
   "cell_type": "code",
   "execution_count": 8,
   "id": "20fc7524",
   "metadata": {},
   "outputs": [
    {
     "data": {
      "text/plain": [
       "\"0 110 1 10000000000\""
      ]
     },
     "execution_count": 8,
     "metadata": {},
     "output_type": "execute_result"
    }
   ],
   "source": [
    "bitstring(Posit16(12), :split)"
   ]
  },
  {
   "cell_type": "code",
   "execution_count": 16,
   "id": "c6d36a90",
   "metadata": {},
   "outputs": [
    {
     "data": {
      "text/plain": [
       "\"0 110 1 11110011010\""
      ]
     },
     "execution_count": 16,
     "metadata": {},
     "output_type": "execute_result"
    }
   ],
   "source": [
    "bitstring(Posit16(15.6), :split)"
   ]
  },
  {
   "cell_type": "code",
   "execution_count": null,
   "id": "59b4a052",
   "metadata": {},
   "outputs": [],
   "source": []
  }
 ],
 "metadata": {
  "kernelspec": {
   "display_name": "Julia 1.6.3",
   "language": "julia",
   "name": "julia-1.6"
  },
  "language_info": {
   "file_extension": ".jl",
   "mimetype": "application/julia",
   "name": "julia",
   "version": "1.6.3"
  }
 },
 "nbformat": 4,
 "nbformat_minor": 5
}
