{
 "cells": [
  {
   "cell_type": "markdown",
   "id": "0a2677eb",
   "metadata": {},
   "source": [
    "    francesco urbani\n",
    "    Thu Nov 11 16:05:04 CET 2021"
   ]
  },
  {
   "cell_type": "markdown",
   "id": "42127de1",
   "metadata": {},
   "source": [
    "Auxiliary functions here"
   ]
  },
  {
   "cell_type": "code",
   "execution_count": 33,
   "id": "d4728f65",
   "metadata": {},
   "outputs": [],
   "source": [
    "def print_bin(x, n=8):\n",
    "    ans = format(x, \"b\").zfill(n)\n",
    "    ans = \"_\".join(ans[i : i + 4] for i in range(0, len(ans), 4))\n",
    "    return ans"
   ]
  },
  {
   "cell_type": "markdown",
   "id": "a23d2a71",
   "metadata": {},
   "source": [
    "---"
   ]
  },
  {
   "cell_type": "code",
   "execution_count": 34,
   "id": "98f74b2e",
   "metadata": {},
   "outputs": [],
   "source": [
    "def sign_reg_ui(bits):\n",
    "    \"\"\"\n",
    "    returns the sign of the regime,\n",
    "    determined peeking at 1st bit after sign\n",
    "    \"\"\"\n",
    "    return (bits & 0x40) != 0"
   ]
  },
  {
   "cell_type": "code",
   "execution_count": 35,
   "id": "9584dd6e",
   "metadata": {},
   "outputs": [
    {
     "data": {
      "text/plain": [
       "(-3, 32)"
      ]
     },
     "execution_count": 35,
     "metadata": {},
     "output_type": "execute_result"
    }
   ],
   "source": [
    "def separate_bits_tmp(bits):\n",
    "    k = 0\n",
    "    tmp = bits << 2\n",
    "    if sign_reg_ui(bits):\n",
    "        while (tmp & 0x80) != 0:\n",
    "            k += 1\n",
    "            tmp = tmp << 1\n",
    "    else:\n",
    "        k = -1\n",
    "        while (tmp & 0x80) == 0:\n",
    "            k -= 1\n",
    "            tmp = tmp << 1\n",
    "        tmp &= 0x7F\n",
    "    return (k, tmp & 0xFF)\n",
    "\n",
    "\n",
    "separate_bits_tmp(10)"
   ]
  },
  {
   "cell_type": "code",
   "execution_count": 36,
   "id": "e3d4e65c",
   "metadata": {},
   "outputs": [
    {
     "data": {
      "text/plain": [
       "(-3, 160)"
      ]
     },
     "execution_count": 36,
     "metadata": {},
     "output_type": "execute_result"
    }
   ],
   "source": [
    "def separate_bits(bits):\n",
    "    k, tmp = separate_bits_tmp(bits)\n",
    "    return (k, tmp | 0x80)\n",
    "\n",
    "\n",
    "separate_bits(10)"
   ]
  },
  {
   "cell_type": "code",
   "execution_count": 37,
   "id": "4bf0458f",
   "metadata": {},
   "outputs": [
    {
     "data": {
      "text/plain": [
       "4"
      ]
     },
     "execution_count": 37,
     "metadata": {},
     "output_type": "execute_result"
    }
   ],
   "source": [
    "def checked_shr(bits, rhs):  # -> (u8)\n",
    "    # https://doc.rust-lang.org/std/primitive.u32.html#method.checked_shr\n",
    "    return bits >> rhs\n",
    "\n",
    "\n",
    "checked_shr(0x40, 4)"
   ]
  },
  {
   "cell_type": "code",
   "execution_count": 38,
   "id": "51173e01",
   "metadata": {},
   "outputs": [
    {
     "data": {
      "text/plain": [
       "(16, False, 2)"
      ]
     },
     "execution_count": 38,
     "metadata": {},
     "output_type": "execute_result"
    }
   ],
   "source": [
    "def calculate_regime(k):\n",
    "    if k < 0:\n",
    "        length = -k & 0xFFFF_FFFF\n",
    "        return (checked_shr(0x40, length), False, length)\n",
    "    else:\n",
    "        length = (k + 1) & 0xFFFF_FFFF\n",
    "        return (0x7F - checked_shr(0x7F, length), True, length)\n",
    "\n",
    "\n",
    "calculate_regime(-2)"
   ]
  },
  {
   "cell_type": "code",
   "execution_count": 39,
   "id": "4e832c35",
   "metadata": {},
   "outputs": [],
   "source": [
    "def pack_to_ui(regime, frac):\n",
    "    return regime + frac"
   ]
  },
  {
   "cell_type": "code",
   "execution_count": 40,
   "id": "6ae7854b",
   "metadata": {},
   "outputs": [
    {
     "name": "stdout",
     "output_type": "stream",
     "text": [
      "regime=124, reg_s=True, reg_len=5\n"
     ]
    },
    {
     "data": {
      "text/plain": [
       "125"
      ]
     },
     "execution_count": 40,
     "metadata": {},
     "output_type": "execute_result"
    }
   ],
   "source": [
    "def calc_ui(k, frac16):\n",
    "    regime, reg_s, reg_len = calculate_regime(k)\n",
    "    print(f\"{regime=}, {reg_s=}, {reg_len=}\")\n",
    "\n",
    "    if reg_len > 6:\n",
    "        if reg_s:\n",
    "            return 0x7F\n",
    "        else:\n",
    "            return 0x01\n",
    "    else:\n",
    "        frac16 = (frac16 & 0x3FFF) >> reg_len\n",
    "        frac = (frac16 >> 8) & 0xFF\n",
    "        #                    ^^^^^^ => as u8\n",
    "        bit_n_plus_one = (frac16 & 0x80) != 0\n",
    "        u_z = pack_to_ui(regime, frac)\n",
    "        if bit_n_plus_one:\n",
    "            bits_more = (frac16 & 0x7F) != 0\n",
    "            u_z += (u_z & 1) | (bits_more & 0xFF)\n",
    "        return u_z & 0xFF\n",
    "\n",
    "\n",
    "calc_ui(4, 0b1010100000000000)"
   ]
  },
  {
   "cell_type": "code",
   "execution_count": 41,
   "id": "3129662d",
   "metadata": {},
   "outputs": [],
   "source": [
    "def from_bits(bits, sign):\n",
    "    if sign:\n",
    "        return c2(bits)\n",
    "    else:\n",
    "        return bits"
   ]
  },
  {
   "cell_type": "code",
   "execution_count": 42,
   "id": "049d71cf",
   "metadata": {},
   "outputs": [
    {
     "name": "stdout",
     "output_type": "stream",
     "text": [
      "-1100100\n"
     ]
    },
    {
     "data": {
      "text/plain": [
       "'01100100'"
      ]
     },
     "execution_count": 42,
     "metadata": {},
     "output_type": "execute_result"
    }
   ],
   "source": [
    "def c2(a):\n",
    "    return (~a + 1) & 0xFF\n",
    "\n",
    "\n",
    "def wrapping_neg(a):\n",
    "    if (a & 0x80) == 1:  # is neg\n",
    "        return a\n",
    "    else:\n",
    "        return c2(a)\n",
    "\n",
    "\n",
    "n = -100\n",
    "print(get_bin(n))\n",
    "\n",
    "get_bin(wrapping_neg(n & 0xFF))"
   ]
  },
  {
   "cell_type": "code",
   "execution_count": 43,
   "id": "b4716d24",
   "metadata": {},
   "outputs": [],
   "source": [
    "def is_nar(a):\n",
    "    return (a ^ 0x80) == 0\n",
    "\n",
    "\n",
    "def is_zero(a):\n",
    "    return a == 0"
   ]
  },
  {
   "cell_type": "code",
   "execution_count": 70,
   "id": "28dc1901",
   "metadata": {},
   "outputs": [],
   "source": [
    "def p8mul(a, b):\n",
    "\n",
    "    ui_a, ui_b = a, b\n",
    "\n",
    "    if is_nar(a) or is_nar(b):\n",
    "        return 0x80  # NaR\n",
    "    elif is_zero(a) or is_zero(b):\n",
    "        return 0  # zero\n",
    "\n",
    "    sign_a = ui_a & 0x80\n",
    "    sign_b = ui_b & 0x80\n",
    "    sign_z = sign_a ^ sign_b\n",
    "\n",
    "    if sign_a:\n",
    "        ui_a = wrapping_neg(ui_a)\n",
    "        print(ui_a)\n",
    "    if sign_b:\n",
    "        ui_b = wrapping_neg(ui_b)\n",
    "        print(ui_b)\n",
    "\n",
    "    k_a, frac_a = separate_bits(ui_a)\n",
    "    k_b, frac_b = separate_bits(ui_b)\n",
    "\n",
    "    print(f\"{k_a=}, {bin(frac_a)=}\")\n",
    "    print(f\"{k_b=}, {bin(frac_b)=}\")\n",
    "\n",
    "    k_c = k_a + k_b\n",
    "\n",
    "    frac16 = (frac_a * frac_b) & 0xFFFF\n",
    "\n",
    "    rcarry = (frac16 & 0x8000) != 0\n",
    "    print(f\"{rcarry=}\")\n",
    "\n",
    "    if rcarry:\n",
    "        k_c += 1\n",
    "        frac16 = frac16 >> 1\n",
    "\n",
    "    print(f\"{k_c=}\")\n",
    "    print(f\"{bin(frac16)=}\")\n",
    "\n",
    "    u_z = calc_ui(k_c, frac16)\n",
    "    print(f\"{bin(u_z)=}\")\n",
    "\n",
    "    return from_bits(u_z, sign_z)"
   ]
  },
  {
   "cell_type": "markdown",
   "id": "c4cbbca0",
   "metadata": {},
   "source": [
    "---"
   ]
  },
  {
   "cell_type": "code",
   "execution_count": 71,
   "id": "7139661e",
   "metadata": {},
   "outputs": [],
   "source": [
    "import softposit as sp"
   ]
  },
  {
   "cell_type": "markdown",
   "id": "e7732f46",
   "metadata": {},
   "source": [
    "---\n",
    "## example 1"
   ]
  },
  {
   "cell_type": "code",
   "execution_count": 72,
   "id": "8d7f6e76",
   "metadata": {},
   "outputs": [
    {
     "data": {
      "text/plain": [
       "0"
      ]
     },
     "execution_count": 72,
     "metadata": {},
     "output_type": "execute_result"
    }
   ],
   "source": [
    "p8mul(0b00000000, 0b01011000)"
   ]
  },
  {
   "cell_type": "code",
   "execution_count": 73,
   "id": "f74fd3e7",
   "metadata": {},
   "outputs": [
    {
     "data": {
      "text/plain": [
       "'0000_0000'"
      ]
     },
     "execution_count": 73,
     "metadata": {},
     "output_type": "execute_result"
    }
   ],
   "source": [
    "print_bin(_)"
   ]
  },
  {
   "cell_type": "code",
   "execution_count": 74,
   "id": "2fc62e76",
   "metadata": {},
   "outputs": [
    {
     "name": "stdout",
     "output_type": "stream",
     "text": [
      "10\n",
      "87\n",
      "k_a=-3, bin(frac_a)='0b10100000'\n",
      "k_b=0, bin(frac_b)='0b11011100'\n",
      "rcarry=True\n",
      "k_c=-2\n",
      "bin(frac16)='0b100010011000000'\n",
      "regime=16, reg_s=False, reg_len=2\n",
      "bin(u_z)='0b10001'\n",
      "\u001b[1;37;41m0\u001b[0m\u001b[1;30;43m001\u001b[0m\u001b[1;37;40m0001\u001b[0m\n"
     ]
    }
   ],
   "source": [
    "sp.posit8(bits=p8mul(0b11110110, 0b10101001)).toBinaryFormatted()"
   ]
  },
  {
   "cell_type": "code",
   "execution_count": null,
   "id": "b99ad9f5",
   "metadata": {},
   "outputs": [],
   "source": []
  },
  {
   "cell_type": "markdown",
   "id": "62943e6e",
   "metadata": {},
   "source": [
    "--- \n",
    "## example 2 "
   ]
  },
  {
   "cell_type": "code",
   "execution_count": 75,
   "id": "7589bb4c",
   "metadata": {},
   "outputs": [],
   "source": [
    "a1 = sp.posit8(12)\n",
    "b1 = sp.posit8(1.75)"
   ]
  },
  {
   "cell_type": "code",
   "execution_count": 76,
   "id": "000c53ec",
   "metadata": {},
   "outputs": [
    {
     "name": "stdout",
     "output_type": "stream",
     "text": [
      "\u001b[1;37;41m0\u001b[0m\u001b[1;30;43m11110\u001b[0m\u001b[1;37;40m10\u001b[0m\n",
      "\u001b[1;37;41m0\u001b[0m\u001b[1;30;43m10\u001b[0m\u001b[1;37;40m11000\u001b[0m\n"
     ]
    }
   ],
   "source": [
    "a1.toBinaryFormatted()\n",
    "b1.toBinaryFormatted()"
   ]
  },
  {
   "cell_type": "code",
   "execution_count": 77,
   "id": "7e9f0e4b",
   "metadata": {},
   "outputs": [
    {
     "data": {
      "text/plain": [
       "24.0"
      ]
     },
     "execution_count": 77,
     "metadata": {},
     "output_type": "execute_result"
    }
   ],
   "source": [
    "c1 = a1 * b1\n",
    "c1"
   ]
  },
  {
   "cell_type": "code",
   "execution_count": 79,
   "id": "41e205cc",
   "metadata": {},
   "outputs": [
    {
     "name": "stdout",
     "output_type": "stream",
     "text": [
      "k_a=3, bin(frac_a)='0b11000000'\n",
      "k_b=0, bin(frac_b)='0b11100000'\n",
      "rcarry=True\n",
      "k_c=4\n",
      "bin(frac16)='0b101010000000000'\n",
      "regime=124, reg_s=True, reg_len=5\n",
      "bin(u_z)='0b1111101'\n"
     ]
    },
    {
     "data": {
      "text/plain": [
       "24.0"
      ]
     },
     "execution_count": 79,
     "metadata": {},
     "output_type": "execute_result"
    }
   ],
   "source": [
    "sp.posit8(bits=p8mul(0b01111010, 0b01011000))"
   ]
  },
  {
   "cell_type": "code",
   "execution_count": 80,
   "id": "a2ad01ae",
   "metadata": {},
   "outputs": [
    {
     "name": "stdout",
     "output_type": "stream",
     "text": [
      "\u001b[1;37;41m0\u001b[0m\u001b[1;30;43m111110\u001b[0m\u001b[1;37;40m1\u001b[0m\n"
     ]
    }
   ],
   "source": [
    "c1.toBinaryFormatted()"
   ]
  },
  {
   "cell_type": "code",
   "execution_count": 81,
   "id": "12bc6569",
   "metadata": {},
   "outputs": [],
   "source": [
    "# example 2"
   ]
  },
  {
   "cell_type": "code",
   "execution_count": 82,
   "id": "e3a8fa2c",
   "metadata": {},
   "outputs": [
    {
     "name": "stdout",
     "output_type": "stream",
     "text": [
      "113\n",
      "k_a=0, bin(frac_a)='0b10011100'\n",
      "k_b=2, bin(frac_b)='0b10010000'\n",
      "rcarry=False\n",
      "k_c=2\n",
      "bin(frac16)='0b101011111000000'\n",
      "regime=112, reg_s=True, reg_len=3\n",
      "bin(u_z)='0b1110011'\n"
     ]
    },
    {
     "data": {
      "text/plain": [
       "141"
      ]
     },
     "execution_count": 82,
     "metadata": {},
     "output_type": "execute_result"
    }
   ],
   "source": [
    "p8mul(0b01000111, 0b10001111)"
   ]
  },
  {
   "cell_type": "code",
   "execution_count": 83,
   "id": "7096cc69",
   "metadata": {},
   "outputs": [
    {
     "data": {
      "text/plain": [
       "(1.21875, -4.5)"
      ]
     },
     "execution_count": 83,
     "metadata": {},
     "output_type": "execute_result"
    }
   ],
   "source": [
    "sp.posit8(bits=0b01000111), sp.posit8(bits=0b10001111)"
   ]
  },
  {
   "cell_type": "code",
   "execution_count": null,
   "id": "29d1b131",
   "metadata": {},
   "outputs": [],
   "source": []
  },
  {
   "cell_type": "code",
   "execution_count": 69,
   "id": "e33b9200",
   "metadata": {},
   "outputs": [
    {
     "name": "stdout",
     "output_type": "stream",
     "text": [
      "k_a=-1, bin(frac_a)='0b11000100'\n",
      "k_b=-5, bin(frac_b)='0b10000000'\n",
      "bin(frac16)='0b110001000000000'\n",
      "rcarry=False\n",
      "k_c=-6\n",
      "regime=1, reg_s=False, reg_len=6\n",
      "bin(u_z)='0b10'\n"
     ]
    },
    {
     "data": {
      "text/plain": [
       "2"
      ]
     },
     "execution_count": 69,
     "metadata": {},
     "output_type": "execute_result"
    }
   ],
   "source": [
    "p8mul(0x31, 0x02)"
   ]
  },
  {
   "cell_type": "code",
   "execution_count": 59,
   "id": "30938cab",
   "metadata": {},
   "outputs": [
    {
     "data": {
      "text/plain": [
       "0"
      ]
     },
     "execution_count": 59,
     "metadata": {},
     "output_type": "execute_result"
    }
   ],
   "source": [
    "p8mul(0b00000000, 0b01100000)"
   ]
  },
  {
   "cell_type": "code",
   "execution_count": 60,
   "id": "de59477e",
   "metadata": {},
   "outputs": [
    {
     "data": {
      "text/plain": [
       "'0b0'"
      ]
     },
     "execution_count": 60,
     "metadata": {},
     "output_type": "execute_result"
    }
   ],
   "source": [
    "bin(_)"
   ]
  },
  {
   "cell_type": "code",
   "execution_count": 61,
   "id": "14750335",
   "metadata": {},
   "outputs": [
    {
     "data": {
      "text/plain": [
       "0.0"
      ]
     },
     "execution_count": 61,
     "metadata": {},
     "output_type": "execute_result"
    }
   ],
   "source": [
    "sp.posit8(0.0) * sp.posit8(2)"
   ]
  },
  {
   "cell_type": "code",
   "execution_count": 62,
   "id": "4d72e945",
   "metadata": {},
   "outputs": [
    {
     "name": "stdout",
     "output_type": "stream",
     "text": [
      "\u001b[1;37;41m0\u001b[0m\u001b[1;30;43m0000000\u001b[0m\n"
     ]
    }
   ],
   "source": [
    "_.toBinaryFormatted()"
   ]
  },
  {
   "cell_type": "code",
   "execution_count": 63,
   "id": "6a71c92f",
   "metadata": {},
   "outputs": [
    {
     "name": "stdout",
     "output_type": "stream",
     "text": [
      "\u001b[1;37;41m0\u001b[0m\u001b[1;30;43m110\u001b[0m\u001b[1;37;40m0000\u001b[0m\n"
     ]
    }
   ],
   "source": [
    "sp.posit8(2).toBinaryFormatted()"
   ]
  },
  {
   "cell_type": "code",
   "execution_count": null,
   "id": "b7a2517d",
   "metadata": {},
   "outputs": [],
   "source": []
  },
  {
   "cell_type": "code",
   "execution_count": null,
   "id": "233e8df9",
   "metadata": {},
   "outputs": [],
   "source": []
  }
 ],
 "metadata": {
  "kernelspec": {
   "display_name": "Python 3 (ipykernel)",
   "language": "python",
   "name": "python3"
  },
  "language_info": {
   "codemirror_mode": {
    "name": "ipython",
    "version": 3
   },
   "file_extension": ".py",
   "mimetype": "text/x-python",
   "name": "python",
   "nbconvert_exporter": "python",
   "pygments_lexer": "ipython3",
   "version": "3.9.7"
  }
 },
 "nbformat": 4,
 "nbformat_minor": 5
}
