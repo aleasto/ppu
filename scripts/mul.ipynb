{
 "cells": [
  {
   "cell_type": "code",
   "execution_count": 1,
   "id": "101a441a-47ef-4e50-b18d-13663a7f5341",
   "metadata": {},
   "outputs": [
    {
     "name": "stdout",
     "output_type": "stream",
     "text": [
      "Fri Dec 10 17:07:11 CET 2021\r\n"
     ]
    }
   ],
   "source": [
    "!date"
   ]
  },
  {
   "cell_type": "code",
   "execution_count": 1,
   "id": "422c18d4",
   "metadata": {},
   "outputs": [],
   "source": [
    "from posit_decode import decode\n",
    "from mul import mul"
   ]
  },
  {
   "cell_type": "code",
   "execution_count": 2,
   "id": "9b1eadb6",
   "metadata": {},
   "outputs": [],
   "source": [
    "import softposit as sp"
   ]
  },
  {
   "cell_type": "code",
   "execution_count": 3,
   "id": "07d0d2fc",
   "metadata": {},
   "outputs": [
    {
     "data": {
      "text/plain": [
       "5.0"
      ]
     },
     "execution_count": 3,
     "metadata": {},
     "output_type": "execute_result"
    }
   ],
   "source": [
    "p0 = sp.posit8(bits=0b01110010)\n",
    "p0"
   ]
  },
  {
   "cell_type": "code",
   "execution_count": 4,
   "id": "67a4e49b",
   "metadata": {},
   "outputs": [],
   "source": [
    "import random\n",
    "random.seed(20)"
   ]
  },
  {
   "cell_type": "code",
   "execution_count": 5,
   "id": "bde7bce2",
   "metadata": {},
   "outputs": [],
   "source": [
    "NUM_RANDOM_TEST_CASES = 300\n",
    "N = 8"
   ]
  },
  {
   "cell_type": "code",
   "execution_count": 6,
   "id": "bf3cf95b",
   "metadata": {},
   "outputs": [
    {
     "name": "stdout",
     "output_type": "stream",
     "text": [
      "231 185 175 201 196 225 254 38 66 172 162 217 248 25 223 83 146 242 43 6 105 104 19 26 32 81 121 148 115 234 53 51 229 160 174 85 84 109 23 221 132 206 125 103 20 52 238 62 8 240 24 21 48 64 177 195 72 78 176 65 41 159 30 5 68 180 59 56 208 60 14 3 165 158 76 71 35 200 182 219 153 114 39 163 70 142 110 40 42 211 192 230 227 243 88 57 29 155 13 214 49 111 44 152 210 181 75 0 80 102 117 135 156 166 164 116 252 183 18 27 216 138 199 203 77 11 235 154 28 157 251 89 1 150 137 118 133 95 67 173 17 245 220 16 224 178 169 127 12 143 140 241 126 106 247 112 179 107 226 82 10 193 207 147 22 204 222 113 205 101 37 237 46 79 100 136 119 91 161 7 97 47 36 50 188 197 213 253 249 122 190 236 45 130 129 96 215 186 54 128 61 2 108 73 209 87 250 151 93 191 218 134 58 145 120 124 123 189 202 198 99 187 149 92 141 246 15 94 244 144 55 9 184 171 69 86 212 139 4 168 170 98 31 33 233 239 167 194 63 228 90 131 232 74 34\n"
     ]
    }
   ],
   "source": [
    "list_a = random.sample(range(0, 2 ** N - 1), min(NUM_RANDOM_TEST_CASES, 2 ** N - 1))\n",
    "list_b = random.sample(range(0, 2 ** N - 1), min(NUM_RANDOM_TEST_CASES, 2 ** N - 1))\n",
    "\n",
    "print(*list_a)"
   ]
  },
  {
   "cell_type": "code",
   "execution_count": 23,
   "id": "b63cd1ab",
   "metadata": {},
   "outputs": [
    {
     "name": "stdout",
     "output_type": "stream",
     "text": [
      "201 * 58 bit_repr is OFF by -1\n",
      "225 * 134 bit_repr is OFF by 1\n",
      "146 * 74 bit_repr is OFF by -1\n",
      "6 * 166 bit_repr is OFF by -1\n",
      "19 * 158 bit_repr is OFF by -1\n",
      "26 * 195 bit_repr is OFF by -1\n",
      "32 * 197 bit_repr is OFF by -1\n",
      "234 * 90 bit_repr is OFF by -1\n",
      "53 * 189 bit_repr is OFF by -1\n",
      "51 * 32 bit_repr is OFF by 1\n",
      "85 * 218 bit_repr is OFF by -1\n",
      "84 * 60 bit_repr is OFF by 1\n",
      "109 * 124 bit_repr is OFF by 1\n",
      "23 * 33 bit_repr is OFF by 1\n",
      "221 * 225 bit_repr is OFF by 1\n",
      "103 * 36 bit_repr is OFF by 1\n",
      "62 * 184 bit_repr is OFF by -1\n",
      "78 * 254 bit_repr is OFF by -1\n",
      "65 * 94 bit_repr is OFF by 1\n",
      "68 * 180 bit_repr is OFF by -1\n",
      "59 * 120 bit_repr is OFF by 1\n",
      "208 * 45 bit_repr is OFF by -1\n",
      "60 * 34 bit_repr is OFF by 1\n",
      "3 * 70 bit_repr is OFF by 1\n",
      "35 * 43 bit_repr is OFF by 1\n",
      "182 * 234 bit_repr is OFF by 1\n",
      "219 * 62 bit_repr is OFF by -1\n",
      "153 * 169 bit_repr is OFF by 1\n",
      "163 * 253 bit_repr is OFF by 1\n",
      "70 * 67 bit_repr is OFF by 1\n",
      "142 * 66 bit_repr is OFF by -1\n",
      "211 * 208 bit_repr is OFF by 1\n",
      "227 * 201 bit_repr is OFF by 1\n",
      "49 * 79 bit_repr is OFF by 1\n",
      "80 * 123 bit_repr is OFF by 1\n",
      "102 * 39 bit_repr is OFF by 1\n",
      "135 * 196 bit_repr is OFF by 1\n",
      "156 * 51 bit_repr is OFF by -1\n",
      "166 * 238 bit_repr is OFF by 1\n",
      "18 * 222 bit_repr is OFF by -1\n",
      "199 * 55 bit_repr is OFF by -1\n",
      "77 * 249 bit_repr is OFF by -1\n",
      "235 * 73 bit_repr is OFF by -1\n",
      "28 * 109 bit_repr is OFF by 1\n",
      "157 * 219 bit_repr is OFF by 1\n",
      "89 * 46 bit_repr is OFF by 1\n",
      "150 * 202 bit_repr is OFF by 1\n",
      "118 * 103 bit_repr is OFF by 1\n",
      "169 * 203 bit_repr is OFF by 1\n",
      "140 * 93 bit_repr is OFF by -1\n",
      "241 * 16 bit_repr is OFF by -1\n",
      "226 * 252 bit_repr is OFF by 1\n",
      "82 * 14 bit_repr is OFF by 1\n",
      "205 * 56 bit_repr is OFF by -1\n",
      "101 * 177 bit_repr is OFF by -1\n",
      "37 * 131 bit_repr is OFF by -1\n",
      "100 * 217 bit_repr is OFF by -1\n",
      "91 * 92 bit_repr is OFF by 1\n",
      "97 * 213 bit_repr is OFF by -1\n",
      "36 * 133 bit_repr is OFF by -1\n",
      "50 * 15 bit_repr is OFF by 1\n",
      "197 * 241 bit_repr is OFF by 1\n",
      "253 * 147 bit_repr is OFF by 1\n",
      "45 * 28 bit_repr is OFF by 1\n",
      "130 * 214 bit_repr is OFF by 1\n",
      "129 * 207 bit_repr is OFF by 1\n",
      "54 * 136 bit_repr is OFF by -1\n",
      "61 * 173 bit_repr is OFF by -1\n",
      "73 * 246 bit_repr is OFF by -1\n",
      "250 * 150 bit_repr is OFF by 1\n",
      "58 * 106 bit_repr is OFF by 1\n",
      "120 * 210 bit_repr is OFF by -1\n",
      "189 * 205 bit_repr is OFF by 1\n",
      "202 * 26 bit_repr is OFF by -1\n",
      "198 * 2 bit_repr is OFF by -1\n",
      "144 * 193 bit_repr is OFF by 1\n",
      "55 * 98 bit_repr is OFF by 1\n",
      "184 * 141 bit_repr is OFF by 1\n",
      "69 * 146 bit_repr is OFF by -1\n",
      "86 * 97 bit_repr is OFF by 1\n",
      "212 * 182 bit_repr is OFF by 1\n",
      "139 * 157 bit_repr is OFF by 1\n",
      "33 * 148 bit_repr is OFF by -1\n",
      "167 * 41 bit_repr is OFF by -1\n",
      "63 * 142 bit_repr is OFF by -1\n",
      "90 * 84 bit_repr is OFF by 1\n",
      "74 * 50 bit_repr is OFF by 1\n",
      "34 * 154 bit_repr is OFF by -1\n"
     ]
    }
   ],
   "source": [
    "right = []\n",
    "wrong = []\n",
    "very_wrong = []\n",
    "\n",
    "count_off_by_one = 0\n",
    "\n",
    "for a,b in zip(list_a, list_b):\n",
    "    if N == 8:\n",
    "        softposit = ( sp.posit8(bits=a) * sp.posit8(bits=b) )\n",
    "        ES = 0\n",
    "    elif N == 16:\n",
    "        softposit = ( sp.posit16(bits=a) * sp.posit16(bits=b) )\n",
    "        ES = 1\n",
    "    elif N == 32:\n",
    "        softposit = ( sp.posit32(bits=a) * sp.posit32(bits=b) )\n",
    "        ES = 2\n",
    "    \n",
    "    mine = mul(decode(a, N, ES), decode(b, N, ES))\n",
    "    mine_real = mine.to_real()\n",
    "\n",
    "    if mine_real == softposit:\n",
    "        right.append((a,b,mine.bit_repr()))\n",
    "    else:\n",
    "        wrong.append((a,b,mine_real,softposit))\n",
    "        if abs(mine_real - softposit) > 2:\n",
    "            very_wrong.append((a,b,mine_real,softposit))\n",
    "        \n",
    "        # check if off only by least significant bit\n",
    "        for j in [-1,1]:\n",
    "            if decode( \n",
    "                mul(decode(a, N, ES), decode(b, N, ES)).bit_repr() + j, \n",
    "                N,\n",
    "                ES\n",
    "            ).to_real() == softposit:\n",
    "                count_off_by_one += 1\n",
    "                print(f\"{a} * {b} bit_repr is OFF by {j}\")\n",
    "                "
   ]
  },
  {
   "cell_type": "code",
   "execution_count": 24,
   "id": "99371869",
   "metadata": {},
   "outputs": [
    {
     "data": {
      "text/plain": [
       "[(201, 58, -0.765625, -0.78125),\n",
       " (225, 134, 5.5, 6.0),\n",
       " (146, 74, -4.5, -5.0),\n",
       " (6, 166, -0.15625, -0.171875),\n",
       " (19, 158, -0.65625, -0.671875),\n",
       " (26, 195, -0.375, -0.390625),\n",
       " (32, 197, -0.453125, -0.46875),\n",
       " (234, 90, -0.609375, -0.625),\n",
       " (53, 189, -0.890625, -0.90625),\n",
       " (51, 32, 0.390625, 0.40625),\n",
       " (85, 218, -0.96875, -0.984375),\n",
       " (84, 60, 1.5, 1.53125),\n",
       " (109, 124, 32.0, 64.0),\n",
       " (23, 33, 0.171875, 0.1875),\n",
       " (221, 225, 0.25, 0.265625),\n",
       " (103, 36, 1.59375, 1.625),\n",
       " (62, 184, -1.1875, -1.21875),\n",
       " (78, 254, -0.03125, -0.046875),\n",
       " (65, 94, 1.96875, 2.0),\n",
       " (68, 180, -1.53125, -1.5625),\n",
       " (59, 120, 7.0, 7.5),\n",
       " (208, 45, -0.515625, -0.53125),\n",
       " (60, 34, 0.484375, 0.5),\n",
       " (3, 70, 0.046875, 0.0625),\n",
       " (35, 43, 0.359375, 0.375),\n",
       " (182, 234, 0.4375, 0.453125),\n",
       " (219, 62, -0.546875, -0.5625),\n",
       " (153, 169, 4.5, 5.0),\n",
       " (163, 253, 0.078125, 0.09375),\n",
       " (70, 67, 1.28125, 1.3125),\n",
       " (142, 66, -5.0, -5.5),\n",
       " (211, 208, 0.515625, 0.53125),\n",
       " (227, 201, 0.375, 0.390625),\n",
       " (49, 79, 1.09375, 1.125),\n",
       " (0, 132, inf, 0.0),\n",
       " (80, 123, 16.0, 24.0),\n",
       " (102, 39, 1.65625, 1.6875),\n",
       " (135, 196, 8.0, 10.0),\n",
       " (156, 51, -1.96875, -2.0),\n",
       " (166, 238, 0.5, 0.515625),\n",
       " (18, 222, -0.140625, -0.15625),\n",
       " (199, 55, -0.75, -0.765625),\n",
       " (77, 249, -0.140625, -0.15625),\n",
       " (235, 73, -0.40625, -0.421875),\n",
       " (28, 109, 1.5625, 1.59375),\n",
       " (157, 219, 1.34375, 1.375),\n",
       " (89, 46, 1.25, 1.28125),\n",
       " (150, 202, 2.625, 2.75),\n",
       " (118, 103, 16.0, 24.0),\n",
       " (169, 203, 1.40625, 1.4375),\n",
       " (140, 93, -10.0, -12.0),\n",
       " (241, 16, -0.046875, -0.0625),\n",
       " (226, 252, 0.015625, 0.03125),\n",
       " (82, 14, 0.328125, 0.34375),\n",
       " (205, 56, -0.6875, -0.703125),\n",
       " (101, 177, -3.75, -3.875),\n",
       " (37, 131, -12.0, -14.0),\n",
       " (100, 217, -1.5, -1.53125),\n",
       " (91, 92, 3.375, 3.5),\n",
       " (97, 213, -1.40625, -1.4375),\n",
       " (36, 133, -7.5, -8.0),\n",
       " (50, 15, 0.171875, 0.1875),\n",
       " (197, 241, 0.203125, 0.21875),\n",
       " (253, 147, 0.15625, 0.171875),\n",
       " (45, 28, 0.296875, 0.3125),\n",
       " (130, 214, 16.0, 24.0),\n",
       " (129, 207, 32.0, 64.0),\n",
       " (54, 136, -6.5, -7.0),\n",
       " (61, 173, -1.5, -1.53125),\n",
       " (73, 246, -0.1875, -0.203125),\n",
       " (250, 150, 0.296875, 0.3125),\n",
       " (218, 0, inf, 0.0),\n",
       " (58, 106, 2.875, 3.0),\n",
       " (120, 210, -5.5, -6.0),\n",
       " (189, 205, 0.859375, 0.875),\n",
       " (202, 26, -0.328125, -0.34375),\n",
       " (198, 2, -0.015625, -0.03125),\n",
       " (144, 193, 3.875, 4.0),\n",
       " (55, 98, 1.90625, 1.9375),\n",
       " (184, 141, 6.5, 7.0),\n",
       " (69, 146, -4.0, -4.5),\n",
       " (86, 97, 3.5, 3.625),\n",
       " (212, 182, 0.890625, 0.90625),\n",
       " (139, 157, 14.0, 16.0),\n",
       " (33, 148, -1.78125, -1.8125),\n",
       " (167, 41, -1.125, -1.15625),\n",
       " (63, 142, -4.5, -5.0),\n",
       " (90, 84, 2.875, 3.0),\n",
       " (74, 50, 1.0, 1.03125),\n",
       " (34, 154, -1.4375, -1.46875)]"
      ]
     },
     "execution_count": 24,
     "metadata": {},
     "output_type": "execute_result"
    }
   ],
   "source": [
    "wrong"
   ]
  },
  {
   "cell_type": "code",
   "execution_count": 25,
   "id": "227b7d1e",
   "metadata": {},
   "outputs": [
    {
     "data": {
      "text/plain": [
       "[(109, 124, 32.0, 64.0),\n",
       " (80, 123, 16.0, 24.0),\n",
       " (118, 103, 16.0, 24.0),\n",
       " (130, 214, 16.0, 24.0),\n",
       " (129, 207, 32.0, 64.0)]"
      ]
     },
     "execution_count": 25,
     "metadata": {},
     "output_type": "execute_result"
    }
   ],
   "source": [
    "very_wrong"
   ]
  },
  {
   "cell_type": "code",
   "execution_count": 26,
   "id": "a4de53a4",
   "metadata": {},
   "outputs": [
    {
     "name": "stdout",
     "output_type": "stream",
     "text": [
      "35.294117647058826 % are wrong\n",
      "1.9607843137254901 % are very wrong\n",
      "64.70588235294117 % are right\n",
      "88/90 are off by 1 bit\n"
     ]
    }
   ],
   "source": [
    "print(\"{} % are wrong\".format(len(wrong)/len(list_a) * 100))\n",
    "print(\"{} % are very wrong\".format(len(very_wrong)/len(list_a) * 100))\n",
    "print(\"{} % are right\".format(len(right)/len(list_a) * 100))\n",
    "\n",
    "print(\"{}/{} are off by 1 bit\".format(count_off_by_one, len(wrong)))"
   ]
  },
  {
   "cell_type": "code",
   "execution_count": 27,
   "id": "b7188da3",
   "metadata": {},
   "outputs": [
    {
     "data": {
      "text/plain": [
       "[(231, 135, 111),\n",
       " (185, 37, 211),\n",
       " (175, 4, 250),\n",
       " (196, 110, 148),\n",
       " (254, 114, 246),\n",
       " (38, 63, 37),\n",
       " (66, 236, 235),\n",
       " (172, 100, 144),\n",
       " (162, 99, 143),\n",
       " (217, 176, 58),\n",
       " (248, 137, 60),\n",
       " (25, 215, 240),\n",
       " (223, 179, 46),\n",
       " (83, 232, 218),\n",
       " (242, 129, 123),\n",
       " (43, 155, 168),\n",
       " (105, 183, 144),\n",
       " (104, 75, 112),\n",
       " (81, 21, 32),\n",
       " (121, 167, 132),\n",
       " (148, 126, 129),\n",
       " (115, 68, 116),\n",
       " (229, 119, 151),\n",
       " (160, 168, 108),\n",
       " (174, 188, 88),\n",
       " (132, 83, 131),\n",
       " (206, 160, 82),\n",
       " (125, 143, 129),\n",
       " (20, 163, 218),\n",
       " (52, 190, 201),\n",
       " (238, 240, 4),\n",
       " (8, 174, 244),\n",
       " (240, 175, 24),\n",
       " (24, 242, 251),\n",
       " (21, 192, 235),\n",
       " (48, 31, 23),\n",
       " (64, 191, 191),\n",
       " (177, 226, 44),\n",
       " (195, 165, 88),\n",
       " (72, 9, 11),\n",
       " (176, 48, 188),\n",
       " (41, 245, 249),\n",
       " (159, 54, 167),\n",
       " (30, 139, 152),\n",
       " (5, 237, 255),\n",
       " (180, 78, 161),\n",
       " (56, 161, 169),\n",
       " (14, 223, 249),\n",
       " (165, 6, 245),\n",
       " (158, 145, 120),\n",
       " (76, 171, 158),\n",
       " (71, 19, 23),\n",
       " (200, 86, 177),\n",
       " (114, 81, 119),\n",
       " (39, 229, 240),\n",
       " (110, 24, 77),\n",
       " (40, 216, 231),\n",
       " (42, 77, 59),\n",
       " (192, 227, 29),\n",
       " (230, 10, 252),\n",
       " (243, 11, 254),\n",
       " (88, 121, 124),\n",
       " (57, 220, 224),\n",
       " (29, 194, 228),\n",
       " (155, 130, 127),\n",
       " (13, 221, 249),\n",
       " (214, 185, 51),\n",
       " (111, 128, 128),\n",
       " (44, 140, 144),\n",
       " (152, 107, 135),\n",
       " (210, 178, 65),\n",
       " (181, 116, 136),\n",
       " (75, 113, 116),\n",
       " (117, 186, 137),\n",
       " (164, 30, 200),\n",
       " (116, 212, 144),\n",
       " (252, 248, 1),\n",
       " (183, 102, 148),\n",
       " (27, 17, 7),\n",
       " (216, 224, 20),\n",
       " (138, 29, 151),\n",
       " (203, 52, 213),\n",
       " (11, 53, 9),\n",
       " (154, 111, 135),\n",
       " (251, 12, 255),\n",
       " (1, 206, 255),\n",
       " (137, 95, 133),\n",
       " (133, 23, 142),\n",
       " (95, 71, 99),\n",
       " (67, 153, 151),\n",
       " (173, 47, 187),\n",
       " (17, 104, 51),\n",
       " (245, 209, 8),\n",
       " (220, 199, 32),\n",
       " (16, 1, 1),\n",
       " (224, 42, 235),\n",
       " (178, 204, 69),\n",
       " (127, 18, 124),\n",
       " (12, 211, 248),\n",
       " (143, 65, 143),\n",
       " (126, 105, 127),\n",
       " (106, 8, 26),\n",
       " (247, 22, 253),\n",
       " (112, 76, 115),\n",
       " (179, 64, 179),\n",
       " (107, 122, 126),\n",
       " (10, 35, 5),\n",
       " (193, 162, 93),\n",
       " (207, 72, 195),\n",
       " (147, 187, 112),\n",
       " (22, 200, 237),\n",
       " (204, 156, 96),\n",
       " (222, 235, 11),\n",
       " (113, 87, 119),\n",
       " (237, 5, 255),\n",
       " (46, 239, 244),\n",
       " (79, 82, 98),\n",
       " (136, 247, 68),\n",
       " (119, 244, 179),\n",
       " (161, 38, 187),\n",
       " (7, 20, 2),\n",
       " (47, 231, 238),\n",
       " (188, 80, 170),\n",
       " (213, 57, 218),\n",
       " (249, 250, 1),\n",
       " (122, 152, 130),\n",
       " (190, 172, 87),\n",
       " (236, 7, 254),\n",
       " (96, 127, 127),\n",
       " (215, 151, 96),\n",
       " (186, 59, 189),\n",
       " (128, 49, 128),\n",
       " (2, 85, 3),\n",
       " (108, 112, 123),\n",
       " (209, 25, 238),\n",
       " (87, 40, 66),\n",
       " (151, 96, 140),\n",
       " (93, 108, 117),\n",
       " (191, 118, 138),\n",
       " (134, 3, 220),\n",
       " (145, 91, 138),\n",
       " (124, 159, 130),\n",
       " (123, 115, 127),\n",
       " (99, 44, 84),\n",
       " (187, 13, 241),\n",
       " (149, 89, 140),\n",
       " (92, 88, 106),\n",
       " (141, 149, 124),\n",
       " (246, 198, 9),\n",
       " (15, 125, 115),\n",
       " (94, 27, 52),\n",
       " (244, 181, 16),\n",
       " (9, 138, 193),\n",
       " (171, 170, 102),\n",
       " (4, 233, 255),\n",
       " (168, 69, 160),\n",
       " (170, 228, 47),\n",
       " (98, 61, 97),\n",
       " (31, 164, 198),\n",
       " (233, 144, 78),\n",
       " (239, 243, 3),\n",
       " (194, 230, 25),\n",
       " (228, 251, 2),\n",
       " (131, 117, 129),\n",
       " (232, 101, 193)]"
      ]
     },
     "execution_count": 27,
     "metadata": {},
     "output_type": "execute_result"
    }
   ],
   "source": [
    "right"
   ]
  },
  {
   "cell_type": "code",
   "execution_count": null,
   "id": "5f084ed0",
   "metadata": {},
   "outputs": [],
   "source": []
  },
  {
   "cell_type": "code",
   "execution_count": 28,
   "id": "d8cd67f2",
   "metadata": {},
   "outputs": [
    {
     "data": {
      "text/plain": [
       "255"
      ]
     },
     "execution_count": 28,
     "metadata": {},
     "output_type": "execute_result"
    }
   ],
   "source": [
    "len(list_a)"
   ]
  },
  {
   "cell_type": "code",
   "execution_count": null,
   "id": "71f4fda5",
   "metadata": {},
   "outputs": [],
   "source": []
  },
  {
   "cell_type": "code",
   "execution_count": null,
   "id": "1865c342",
   "metadata": {},
   "outputs": [],
   "source": []
  },
  {
   "cell_type": "code",
   "execution_count": null,
   "id": "aaa723e5",
   "metadata": {},
   "outputs": [],
   "source": []
  },
  {
   "cell_type": "code",
   "execution_count": null,
   "id": "bbc99c78",
   "metadata": {},
   "outputs": [],
   "source": []
  }
 ],
 "metadata": {
  "kernelspec": {
   "display_name": "Python 3 (ipykernel)",
   "language": "python",
   "name": "python3"
  },
  "language_info": {
   "codemirror_mode": {
    "name": "ipython",
    "version": 3
   },
   "file_extension": ".py",
   "mimetype": "text/x-python",
   "name": "python",
   "nbconvert_exporter": "python",
   "pygments_lexer": "ipython3",
   "version": "3.9.7"
  }
 },
 "nbformat": 4,
 "nbformat_minor": 5
}
