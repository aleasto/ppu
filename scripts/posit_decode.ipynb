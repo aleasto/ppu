{
 "cells": [
  {
   "cell_type": "code",
   "execution_count": 16,
   "id": "422c18d4",
   "metadata": {},
   "outputs": [],
   "source": [
    "from posit_decode import decode"
   ]
  },
  {
   "cell_type": "code",
   "execution_count": 23,
   "id": "9b1eadb6",
   "metadata": {},
   "outputs": [],
   "source": [
    "import softposit as sp"
   ]
  },
  {
   "cell_type": "code",
   "execution_count": 40,
   "id": "bcafb4ca",
   "metadata": {},
   "outputs": [],
   "source": [
    "get_bin = lambda x, n: format(x, \"b\").zfill(n)\n",
    "get_hex = lambda x, n: format(x, \"x\").zfill(n)"
   ]
  },
  {
   "cell_type": "code",
   "execution_count": 3,
   "id": "d11bcd03",
   "metadata": {},
   "outputs": [
    {
     "data": {
      "text/plain": [
       "P<8,1>: 0b01110011 \n",
       "\u001b[1;37;41m0\u001b[1;30;43m1110\u001b[1;37;44m0\u001b[1;37;40m11\u001b[0m\n",
       "(-1)**\u001b[1;37;41m0\u001b[0m * (2**(2**\u001b[1;37;44m1\u001b[0m))**\u001b[1;30;43m2\u001b[0m * (2**\u001b[1;37;44m0\u001b[0m) * (1 + \u001b[1;37;40m3\u001b[0m/4) = 28.0 \n",
       "s:               0\n",
       "reg_s:           1\n",
       "reg_len:           4\n",
       "k:               2\n",
       "reg:  00001110\n",
       "# reg: (reg_s, reg_len) = (1, 4) -> k = 2\n",
       "exp:      00000000\n",
       "mant:     00000011\n",
       "F = mant_len: 2 -> 2**F = 4\n",
       "\u001b[36m~~~~~~~~~~~~~~~~~~~~~~~~~~~~~~~~~~~~~~~~~~~~~\u001b[0m"
      ]
     },
     "execution_count": 3,
     "metadata": {},
     "output_type": "execute_result"
    }
   ],
   "source": [
    "bits = 0b01110011\n",
    "\n",
    "decode(bits, 8, 1)"
   ]
  },
  {
   "cell_type": "code",
   "execution_count": 4,
   "id": "dca226af",
   "metadata": {},
   "outputs": [
    {
     "name": "stdout",
     "output_type": "stream",
     "text": [
      "\u001b[0;31mSignature:\u001b[0m \u001b[0mdecode\u001b[0m\u001b[0;34m(\u001b[0m\u001b[0mbits\u001b[0m\u001b[0;34m,\u001b[0m \u001b[0msize\u001b[0m\u001b[0;34m=\u001b[0m\u001b[0;36m2\u001b[0m\u001b[0;34m,\u001b[0m \u001b[0mes\u001b[0m\u001b[0;34m=\u001b[0m\u001b[0;36m0\u001b[0m\u001b[0;34m)\u001b[0m \u001b[0;34m->\u001b[0m \u001b[0mposit\u001b[0m\u001b[0;34m.\u001b[0m\u001b[0mPosit\u001b[0m\u001b[0;34m\u001b[0m\u001b[0;34m\u001b[0m\u001b[0m\n",
      "\u001b[0;31mDocstring:\u001b[0m\n",
      "Posit decoder.\n",
      "\n",
      "Break down P<size, es> in its components (sign, regime, exponent, mantissa).\n",
      "\n",
      "Prameters:\n",
      "bits (unsigned): sequence of bits representing the posit\n",
      "size (unsigned): length of posit\n",
      "es (unsigned): exponent field size.\n",
      "\n",
      "Returns:\n",
      "Posit object\n",
      "\u001b[0;31mFile:\u001b[0m      ~/Dropbox/UNI/MASTER/thesis/msc-thesis/RISCV-PPU/ppu/scripts/posit_decode.py\n",
      "\u001b[0;31mType:\u001b[0m      function\n"
     ]
    }
   ],
   "source": [
    "# open function signature within jupyter\n",
    "decode?"
   ]
  },
  {
   "cell_type": "code",
   "execution_count": 5,
   "id": "2fc0d40f",
   "metadata": {},
   "outputs": [
    {
     "data": {
      "text/plain": [
       "P<8,0>: 0b01110011 \n",
       "\u001b[1;37;41m0\u001b[1;30;43m1110\u001b[1;37;44m\u001b[1;37;40m011\u001b[0m\n",
       "(-1)**\u001b[1;37;41m0\u001b[0m * (2**(2**\u001b[1;37;44m0\u001b[0m))**\u001b[1;30;43m2\u001b[0m * (2**\u001b[1;37;44m0\u001b[0m) * (1 + \u001b[1;37;40m3\u001b[0m/8) = 5.5 \n",
       "s:               0\n",
       "reg_s:           1\n",
       "reg_len:           4\n",
       "k:               2\n",
       "reg:  00001110\n",
       "# reg: (reg_s, reg_len) = (1, 4) -> k = 2\n",
       "\n",
       "mant:     00000011\n",
       "F = mant_len: 3 -> 2**F = 8\n",
       "\u001b[36m~~~~~~~~~~~~~~~~~~~~~~~~~~~~~~~~~~~~~~~~~~~~~\u001b[0m"
      ]
     },
     "execution_count": 5,
     "metadata": {},
     "output_type": "execute_result"
    }
   ],
   "source": [
    "decode(bits=bits, size=8, es=0)"
   ]
  },
  {
   "cell_type": "code",
   "execution_count": 6,
   "id": "983d3ad9",
   "metadata": {},
   "outputs": [
    {
     "data": {
      "text/plain": [
       "P<20,0>: 0b01111100000110101100 \n",
       "\u001b[1;37;41m0\u001b[1;30;43m111110\u001b[1;37;44m\u001b[1;37;40m0000110101100\u001b[0m\n",
       "(-1)**\u001b[1;37;41m0\u001b[0m * (2**(2**\u001b[1;37;44m0\u001b[0m))**\u001b[1;30;43m4\u001b[0m * (2**\u001b[1;37;44m0\u001b[0m) * (1 + \u001b[1;37;40m428\u001b[0m/8192) = 16.8359375 \n",
       "s:               0\n",
       "reg_s:           1\n",
       "reg_len:           6\n",
       "k:               4\n",
       "reg:  00000000000000111110\n",
       "# reg: (reg_s, reg_len) = (1, 6) -> k = 4\n",
       "\n",
       "mant: 00000000000110101100\n",
       "F = mant_len: 13 -> 2**F = 8192\n",
       "\u001b[36m~~~~~~~~~~~~~~~~~~~~~~~~~~~~~~~~~~~~~~~~~~~~~\u001b[0m"
      ]
     },
     "execution_count": 6,
     "metadata": {},
     "output_type": "execute_result"
    }
   ],
   "source": [
    "p1 = decode(0b01111100000110101100, 20, 0)\n",
    "\n",
    "p1"
   ]
  },
  {
   "cell_type": "code",
   "execution_count": 7,
   "id": "0ad433b4",
   "metadata": {},
   "outputs": [
    {
     "data": {
      "text/plain": [
       "P<20,0>: 0b11111100010110100100 \n",
       "\u001b[1;37;41m1\u001b[1;30;43m000001\u001b[1;37;44m\u001b[1;37;40m1101001011100\u001b[0m\n",
       "(-1)**\u001b[1;37;41m1\u001b[0m * (2**(2**\u001b[1;37;44m0\u001b[0m))**\u001b[1;30;43m-5\u001b[0m * (2**\u001b[1;37;44m0\u001b[0m) * (1 + \u001b[1;37;40m6748\u001b[0m/8192) = -0.0569915771484375 \n",
       "s:               1\n",
       "reg_s:           0\n",
       "reg_len:           6\n",
       "k:              -5\n",
       "reg:  00000000000000000001\n",
       "# reg: (reg_s, reg_len) = (0, 6) -> k = -5\n",
       "\n",
       "mant: 00000001101001011100\n",
       "F = mant_len: 13 -> 2**F = 8192\n",
       "\u001b[36m~~~~~~~~~~~~~~~~~~~~~~~~~~~~~~~~~~~~~~~~~~~~~\u001b[0m"
      ]
     },
     "execution_count": 7,
     "metadata": {},
     "output_type": "execute_result"
    }
   ],
   "source": [
    "p2 = decode(0b11111100010110100100, 20, 0)\n",
    "p2"
   ]
  },
  {
   "cell_type": "code",
   "execution_count": 8,
   "id": "473df8f3",
   "metadata": {},
   "outputs": [],
   "source": [
    "from mul import mul"
   ]
  },
  {
   "cell_type": "code",
   "execution_count": 9,
   "id": "1025e41a",
   "metadata": {},
   "outputs": [
    {
     "name": "stdout",
     "output_type": "stream",
     "text": [
      "                    \u001b[1;37;40m1\u001b[0m0000110101100000000 x\n",
      "                    \u001b[1;37;40m1\u001b[0m1101001011100000000 =\n",
      "------------------------------------------\n",
      "\u001b[1;37;40m01\u001b[0m11101011010001000111010000000000000000\n",
      "\n",
      "mant_carry = \u001b[1;37;40m0\u001b[0m\n",
      "k + exp + mant_carry = \u001b[1;30;43m-1\u001b[0m + \u001b[1;37;44m0\u001b[0m + \u001b[1;37;40m0\u001b[0m\n",
      "k + exp + mant_carry = -1 + 0 + 0\n"
     ]
    },
    {
     "data": {
      "text/plain": [
       "P<20,0>: 0b11000010100101111000 \n",
       "\u001b[1;37;41m1\u001b[1;30;43m01\u001b[1;37;44m\u001b[1;37;40m11101011010001000\u001b[0m\n",
       "(-1)**\u001b[1;37;41m1\u001b[0m * (2**(2**\u001b[1;37;44m0\u001b[0m))**\u001b[1;30;43m-1\u001b[0m * (2**\u001b[1;37;44m0\u001b[0m) * (1 + \u001b[1;37;40m120456\u001b[0m/131072) = -0.959503173828125 \n",
       "s:               1\n",
       "reg_s:           0\n",
       "reg_len:           2\n",
       "k:              -1\n",
       "reg:  00000000000000000001\n",
       "# reg: (reg_s, reg_len) = (0, 2) -> k = -1\n",
       "\n",
       "mant: 00011101011010001000\n",
       "F = mant_len: 17 -> 2**F = 131072\n",
       "\u001b[36m~~~~~~~~~~~~~~~~~~~~~~~~~~~~~~~~~~~~~~~~~~~~~\u001b[0m"
      ]
     },
     "execution_count": 9,
     "metadata": {},
     "output_type": "execute_result"
    }
   ],
   "source": [
    "mul(p1, p2)"
   ]
  },
  {
   "cell_type": "code",
   "execution_count": 42,
   "id": "88cfd5b4",
   "metadata": {},
   "outputs": [
    {
     "data": {
      "text/plain": [
       "'3c2a'"
      ]
     },
     "execution_count": 42,
     "metadata": {},
     "output_type": "execute_result"
    }
   ],
   "source": [
    "bits = 0b0011110000101010\n",
    "get_hex(decode(bits, size=16, es=1).bit_repr(), 4)"
   ]
  },
  {
   "cell_type": "code",
   "execution_count": 36,
   "id": "cf534241",
   "metadata": {},
   "outputs": [
    {
     "name": "stdout",
     "output_type": "stream",
     "text": [
      "0x3c2a\n"
     ]
    }
   ],
   "source": [
    "a = sp.posit16(bits=bits).toHex()"
   ]
  },
  {
   "cell_type": "code",
   "execution_count": 35,
   "id": "67a4e49b",
   "metadata": {},
   "outputs": [
    {
     "data": {
      "text/plain": [
       "1.0"
      ]
     },
     "execution_count": 35,
     "metadata": {},
     "output_type": "execute_result"
    }
   ],
   "source": []
  },
  {
   "cell_type": "code",
   "execution_count": null,
   "id": "99371869",
   "metadata": {},
   "outputs": [],
   "source": []
  }
 ],
 "metadata": {
  "kernelspec": {
   "display_name": "Python 3 (ipykernel)",
   "language": "python",
   "name": "python3"
  },
  "language_info": {
   "codemirror_mode": {
    "name": "ipython",
    "version": 3
   },
   "file_extension": ".py",
   "mimetype": "text/x-python",
   "name": "python",
   "nbconvert_exporter": "python",
   "pygments_lexer": "ipython3",
   "version": "3.9.7"
  }
 },
 "nbformat": 4,
 "nbformat_minor": 5
}
