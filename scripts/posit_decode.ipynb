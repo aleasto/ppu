{
 "cells": [
  {
   "cell_type": "code",
   "execution_count": 1,
   "id": "422c18d4",
   "metadata": {},
   "outputs": [],
   "source": [
    "from posit_decode import decode"
   ]
  },
  {
   "cell_type": "code",
   "execution_count": 2,
   "id": "d11bcd03",
   "metadata": {},
   "outputs": [
    {
     "data": {
      "text/plain": [
       "P<8,1>: \u001b[1;37;41m0\u001b[1;30;43m1110\u001b[1;37;44m0\u001b[1;37;40m11\u001b[0m \n",
       "01110011 \n",
       "(-1)**\u001b[1;37;41m0\u001b[0m * (2**(2**\u001b[1;37;44m1\u001b[0m))**\u001b[1;30;43m2\u001b[0m * (2 ** \u001b[1;37;44m0\u001b[0m) * (1 + \u001b[1;37;40m3\u001b[0m/4) = 28.0 \n",
       "s:    0\n",
       "reg_s:1\n",
       "reg_len:4\n",
       "reg:  00001110\n",
       "k:    2\n",
       "exp:  00000000\n",
       "mant_len: 2 -> 2**F = 4\n",
       "mant: 00000011\n",
       "--------------------"
      ]
     },
     "execution_count": 2,
     "metadata": {},
     "output_type": "execute_result"
    }
   ],
   "source": [
    "bits = 0b01110011\n",
    "\n",
    "decode(bits, 8, 1)"
   ]
  },
  {
   "cell_type": "code",
   "execution_count": 5,
   "id": "dca226af",
   "metadata": {},
   "outputs": [],
   "source": [
    "# open function signature within jupyter\n",
    "decode?"
   ]
  },
  {
   "cell_type": "code",
   "execution_count": 6,
   "id": "2fc0d40f",
   "metadata": {},
   "outputs": [
    {
     "data": {
      "text/plain": [
       "P<8,0>: \u001b[1;37;41m0\u001b[1;30;43m1110\u001b[1;37;44m\u001b[1;37;40m011\u001b[0m \n",
       "01110011 \n",
       "(-1)**\u001b[1;37;41m0\u001b[0m * (2**(2**\u001b[1;37;44m0\u001b[0m))**\u001b[1;30;43m2\u001b[0m * (2 ** \u001b[1;37;44m0\u001b[0m) * (1 + \u001b[1;37;40m3\u001b[0m/8) = 5.5 \n",
       "s:    0\n",
       "reg_s:1\n",
       "reg_len:4\n",
       "reg:  00001110\n",
       "k:    2\n",
       "\n",
       "mant_len: 3 -> 2**F = 8\n",
       "mant: 00000011\n",
       "--------------------"
      ]
     },
     "execution_count": 6,
     "metadata": {},
     "output_type": "execute_result"
    }
   ],
   "source": [
    "decode(bits=bits, size=8, es=0)"
   ]
  },
  {
   "cell_type": "code",
   "execution_count": null,
   "id": "983d3ad9",
   "metadata": {},
   "outputs": [],
   "source": []
  }
 ],
 "metadata": {
  "kernelspec": {
   "display_name": "Python 3 (ipykernel)",
   "language": "python",
   "name": "python3"
  },
  "language_info": {
   "codemirror_mode": {
    "name": "ipython",
    "version": 3
   },
   "file_extension": ".py",
   "mimetype": "text/x-python",
   "name": "python",
   "nbconvert_exporter": "python",
   "pygments_lexer": "ipython3",
   "version": "3.9.7"
  }
 },
 "nbformat": 4,
 "nbformat_minor": 5
}
