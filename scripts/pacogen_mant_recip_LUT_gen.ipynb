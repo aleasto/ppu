{
 "cells": [
  {
   "cell_type": "code",
   "execution_count": 1,
   "metadata": {},
   "outputs": [
    {
     "name": "stdout",
     "output_type": "stream",
     "text": [
      "Wed Feb 16 09:55:05 CET 2022\n"
     ]
    }
   ],
   "source": [
    "!date"
   ]
  },
  {
   "cell_type": "code",
   "execution_count": 2,
   "metadata": {},
   "outputs": [
    {
     "data": {
      "text/plain": [
       "'2.0.1'"
      ]
     },
     "execution_count": 2,
     "metadata": {},
     "output_type": "execute_result"
    }
   ],
   "source": [
    "import fixed2float\n",
    "from fixed2float import Fx, to_Fx\n",
    "\n",
    "fixed2float.__version__"
   ]
  },
  {
   "cell_type": "code",
   "execution_count": 3,
   "metadata": {},
   "outputs": [],
   "source": [
    "N = 8\n",
    "M = 9\n",
    "M2 = 12"
   ]
  },
  {
   "cell_type": "code",
   "execution_count": 4,
   "metadata": {},
   "outputs": [
    {
     "data": {
      "text/plain": [
       "P<16,1>:         0b0111000000101000   0x7028   28712\n",
       "                   \u001b[37;41m0\u001b[30;43m1110\u001b[37;44m0\u001b[37;40m0000101000\u001b[0m   \n",
       "sign:              \u001b[37;41m0\u001b[0m\n",
       "regime:            \u001b[90m000000000000\u001b[30;43m1110\u001b[0m -> (reg_s, reg_len) = (1, 4) -> k = 2\n",
       "exponent:                         \u001b[37;44m0\u001b[0m\n",
       "mantissa:          \u001b[90m000000\u001b[37;40m0000101000\u001b[0m -> \u001b[45m1\u001b[37;40m000010100000000\u001b[0m (1.0390625)\n",
       "                   \u001b[37;41m0\u001b[30;43m1110\u001b[37;44m0\u001b[37;40m0000101000\u001b[0m\n",
       "\n",
       "                   (-1) ** \u001b[37;41m0\u001b[0m * (2 ** (2 ** \u001b[37;44m1\u001b[0m)) ** \u001b[30;43m2\u001b[0m * (2 ** \u001b[37;44m0\u001b[0m) * (1 + \u001b[37;40m40\u001b[0m/1024)\n",
       "                   16.625\n",
       "\u001b[36m~~~~~~~~~~~~~~~~~~~~~~~~~~~~~~~~~~~~~~~~~~~~~\u001b[0m"
      ]
     },
     "execution_count": 4,
     "metadata": {},
     "output_type": "execute_result"
    }
   ],
   "source": [
    "# let's say we have this posit\n",
    "\n",
    "from hardposit import from_bits\n",
    "\n",
    "a = from_bits(0b0111000000101000, 16, 1)\n",
    "a"
   ]
  },
  {
   "cell_type": "code",
   "execution_count": 5,
   "metadata": {},
   "outputs": [
    {
     "data": {
      "text/plain": [
       "\u001b[45m1\u001b[37;40m000010100000000\u001b[0m"
      ]
     },
     "execution_count": 5,
     "metadata": {},
     "output_type": "execute_result"
    }
   ],
   "source": [
    "fp_mant_a = Fx(a.mant_repr().unwrap(), 1, 16)\n",
    "fp_mant_a"
   ]
  },
  {
   "cell_type": "code",
   "execution_count": 6,
   "metadata": {},
   "outputs": [
    {
     "data": {
      "text/plain": [
       "\u001b[45m\u001b[37;40m00001010\u001b[0m"
      ]
     },
     "execution_count": 6,
     "metadata": {},
     "output_type": "execute_result"
    }
   ],
   "source": [
    "# now we trim the mantissa to N bits and remove the \"1.\" which provides to additional information\n",
    "\n",
    "fp_frac_a_N_bits = to_Fx(\n",
    "    x=fp_mant_a.eval() - 1,\n",
    "    m=0,\n",
    "    b=N,\n",
    ")\n",
    "\n",
    "fp_frac_a_N_bits"
   ]
  },
  {
   "cell_type": "code",
   "execution_count": 7,
   "metadata": {},
   "outputs": [
    {
     "data": {
      "text/plain": [
       "Fx"
      ]
     },
     "execution_count": 7,
     "metadata": {},
     "output_type": "execute_result"
    }
   ],
   "source": [
    "type(_)"
   ]
  },
  {
   "cell_type": "code",
   "execution_count": 8,
   "metadata": {},
   "outputs": [
    {
     "data": {
      "text/plain": [
       "10"
      ]
     },
     "execution_count": 8,
     "metadata": {},
     "output_type": "execute_result"
    }
   ],
   "source": [
    "# so the net value that enters the LUT is:\n",
    "\n",
    "fp_frac_a_N_bits.val"
   ]
  },
  {
   "cell_type": "code",
   "execution_count": 9,
   "metadata": {},
   "outputs": [
    {
     "data": {
      "text/plain": [
       "(\u001b[45m1\u001b[37;40m000010100000000\u001b[0m, 1.0390625)"
      ]
     },
     "execution_count": 9,
     "metadata": {},
     "output_type": "execute_result"
    }
   ],
   "source": [
    "fp_mant_a, fp_mant_a.eval()"
   ]
  },
  {
   "cell_type": "code",
   "execution_count": 10,
   "metadata": {},
   "outputs": [
    {
     "data": {
      "text/plain": [
       "(\u001b[45m0\u001b[37;40m111101101...\u001b[0m, \u001b[45m0\u001b[37;40m111101100110...\u001b[0m)"
      ]
     },
     "execution_count": 10,
     "metadata": {},
     "output_type": "execute_result"
    }
   ],
   "source": [
    "fp_mant_a_recip1 = to_Fx(1.0 / fp_mant_a.eval(), 1, 1 + M)\n",
    "fp_mant_a_recip2 = to_Fx(1.0 / fp_mant_a.eval(), 1, 1 + M2)\n",
    "\n",
    "\n",
    "fp_mant_a_recip1, fp_mant_a_recip2"
   ]
  },
  {
   "cell_type": "code",
   "execution_count": 11,
   "metadata": {},
   "outputs": [
    {
     "data": {
      "text/plain": [
       "(0.9624060150375939, 0.962890625, 0.96240234375)"
      ]
     },
     "execution_count": 11,
     "metadata": {},
     "output_type": "execute_result"
    }
   ],
   "source": [
    "# most precise vs (1+M)-bits precise\n",
    "\n",
    "1.0 / fp_mant_a.eval(), fp_mant_a_recip1.eval(), fp_mant_a_recip2.eval()"
   ]
  },
  {
   "cell_type": "code",
   "execution_count": 12,
   "metadata": {},
   "outputs": [
    {
     "data": {
      "text/plain": [
       "(\u001b[45m\u001b[37;40m111101101\u001b[0m, \u001b[45m\u001b[37;40m111101100110\u001b[0m)"
      ]
     },
     "execution_count": 12,
     "metadata": {},
     "output_type": "execute_result"
    }
   ],
   "source": [
    "to_Fx(fp_mant_a_recip1.eval(), 0, M), to_Fx(fp_mant_a_recip2.eval(), 0, M2)"
   ]
  },
  {
   "cell_type": "code",
   "execution_count": 13,
   "metadata": {},
   "outputs": [
    {
     "data": {
      "text/plain": [
       "(493, 3942)"
      ]
     },
     "execution_count": 13,
     "metadata": {},
     "output_type": "execute_result"
    }
   ],
   "source": [
    "_[0].val, _[1].val"
   ]
  },
  {
   "cell_type": "code",
   "execution_count": 14,
   "metadata": {},
   "outputs": [
    {
     "data": {
      "text/plain": [
       "('0x1ed', '0xf66')"
      ]
     },
     "execution_count": 14,
     "metadata": {},
     "output_type": "execute_result"
    }
   ],
   "source": [
    "hex(_[0]), hex(_[1])"
   ]
  },
  {
   "cell_type": "code",
   "execution_count": 15,
   "metadata": {},
   "outputs": [],
   "source": [
    "# that is ultimately the _value_ corresponding to the _key_ 10\n",
    "\n",
    "#             8'd10 :    dout <= 9'h1ed;"
   ]
  }
 ],
 "metadata": {
  "interpreter": {
   "hash": "503ef6b6d926f5343126dbcbf2cf48684d717ac812f3ec52f9634a59ee13497f"
  },
  "kernelspec": {
   "display_name": "Python 3.9.7 64-bit ('3.9.7')",
   "language": "python",
   "name": "python3"
  },
  "language_info": {
   "codemirror_mode": {
    "name": "ipython",
    "version": 3
   },
   "file_extension": ".py",
   "mimetype": "text/x-python",
   "name": "python",
   "nbconvert_exporter": "python",
   "pygments_lexer": "ipython3",
   "version": "3.9.7"
  },
  "orig_nbformat": 4
 },
 "nbformat": 4,
 "nbformat_minor": 2
}
