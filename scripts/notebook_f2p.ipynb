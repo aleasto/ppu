{
 "cells": [
  {
   "cell_type": "code",
   "execution_count": 1,
   "metadata": {},
   "outputs": [
    {
     "name": "stdout",
     "output_type": "stream",
     "text": [
      "Wed Apr  6 10:11:50 CEST 2022\n"
     ]
    }
   ],
   "source": [
    "!date"
   ]
  },
  {
   "cell_type": "code",
   "execution_count": 2,
   "metadata": {},
   "outputs": [],
   "source": [
    "from hardposit.float import F64, F32, F16\n",
    "from hardposit import from_bits, from_double"
   ]
  },
  {
   "cell_type": "code",
   "execution_count": 3,
   "metadata": {},
   "outputs": [],
   "source": [
    "N, ES = 16, 1"
   ]
  },
  {
   "cell_type": "code",
   "execution_count": 4,
   "metadata": {},
   "outputs": [],
   "source": [
    "ppu_in1 = 51148 "
   ]
  },
  {
   "cell_type": "code",
   "execution_count": 5,
   "metadata": {},
   "outputs": [
    {
     "data": {
      "text/plain": [
       "\u001b[37;41m1\u001b[37;44m10001\u001b[37;40m1111001100\u001b[0m"
      ]
     },
     "execution_count": 5,
     "metadata": {},
     "output_type": "execute_result"
    }
   ],
   "source": [
    "float = F16(bits=ppu_in1)\n",
    "float"
   ]
  },
  {
   "cell_type": "code",
   "execution_count": 6,
   "metadata": {},
   "outputs": [
    {
     "data": {
      "text/plain": [
       "-7.796875"
      ]
     },
     "execution_count": 6,
     "metadata": {},
     "output_type": "execute_result"
    }
   ],
   "source": [
    "float.eval()"
   ]
  },
  {
   "cell_type": "code",
   "execution_count": 7,
   "metadata": {},
   "outputs": [],
   "source": [
    "x = _"
   ]
  },
  {
   "cell_type": "code",
   "execution_count": 8,
   "metadata": {},
   "outputs": [
    {
     "data": {
      "text/plain": [
       "P<16,1>:         0b1001100001101000   0x9868   39016\n",
       "                   \u001b[37;41m1\u001b[30;43m110\u001b[37;44m0\u001b[37;40m11110011000\u001b[0m   \n",
       "sign:              \u001b[37;41m1\u001b[0m\n",
       "regime:            \u001b[90m0000000000000\u001b[30;43m110\u001b[0m -> (reg_s, reg_len) = (1, 3) -> k = 1\n",
       "exponent:                         \u001b[37;44m0\u001b[0m\n",
       "mantissa:          \u001b[90m00000\u001b[37;40m11110011000\u001b[0m -> \u001b[45m1\u001b[37;40m1111001100000\u001b[0m Fx<1,14>(15968) ⇒ 1.94921875\n",
       "                   \u001b[37;41m1\u001b[30;43m110\u001b[37;44m0\u001b[37;40m11110011000\u001b[0m\n",
       "\n",
       "                   (-1) ** \u001b[37;41m1\u001b[0m * (2 ** (2 ** \u001b[37;44m1\u001b[0m)) ** \u001b[30;43m1\u001b[0m * (2 ** \u001b[37;44m0\u001b[0m) * (1 + \u001b[37;40m1944\u001b[0m/2048)\n",
       "                   -7.796875\n",
       "\u001b[36m~~~~~~~~~~~~~~~~~~~~~~~~~~~~~~~~~~~~~~~~~~~~~\u001b[0m"
      ]
     },
     "execution_count": 8,
     "metadata": {},
     "output_type": "execute_result"
    }
   ],
   "source": [
    "equivalent_posit = from_double(x, N, ES)\n",
    "equivalent_posit"
   ]
  },
  {
   "cell_type": "code",
   "execution_count": 9,
   "metadata": {},
   "outputs": [
    {
     "data": {
      "text/plain": [
       "P<16,1>:         0b0000000010011000   0x0098   152\n",
       "                   \u001b[37;41m0\u001b[30;43m00000001\u001b[37;44m0\u001b[37;40m011000\u001b[0m   \n",
       "sign:              \u001b[37;41m0\u001b[0m\n",
       "regime:            \u001b[90m00000000\u001b[30;43m00000001\u001b[0m -> (reg_s, reg_len) = (0, 8) -> k = -7\n",
       "exponent:                         \u001b[37;44m0\u001b[0m\n",
       "mantissa:          \u001b[90m0000000000\u001b[37;40m011000\u001b[0m -> \u001b[45m1\u001b[37;40m0110000000000\u001b[0m Fx<1,14>(11264) ⇒ 1.375\n",
       "                   \u001b[37;41m0\u001b[30;43m00000001\u001b[37;44m0\u001b[37;40m011000\u001b[0m\n",
       "\n",
       "                   (-1) ** \u001b[37;41m0\u001b[0m * (2 ** (2 ** \u001b[37;44m1\u001b[0m)) ** \u001b[30;43m-7\u001b[0m * (2 ** \u001b[37;44m0\u001b[0m) * (1 + \u001b[37;40m24\u001b[0m/64)\n",
       "                   8.392333984375e-05\n",
       "\u001b[36m~~~~~~~~~~~~~~~~~~~~~~~~~~~~~~~~~~~~~~~~~~~~~\u001b[0m"
      ]
     },
     "execution_count": 9,
     "metadata": {},
     "output_type": "execute_result"
    }
   ],
   "source": [
    "from_bits(152, N, ES)"
   ]
  }
 ],
 "metadata": {
  "interpreter": {
   "hash": "4f4537ff368ee6783f9431860c287bcd41f38a57f5e1d0729f61e917c86e88bf"
  },
  "kernelspec": {
   "display_name": "Python 3.10.2 64-bit ('3.10.2')",
   "language": "python",
   "name": "python3"
  },
  "language_info": {
   "codemirror_mode": {
    "name": "ipython",
    "version": 3
   },
   "file_extension": ".py",
   "mimetype": "text/x-python",
   "name": "python",
   "nbconvert_exporter": "python",
   "pygments_lexer": "ipython3",
   "version": "3.10.2"
  },
  "orig_nbformat": 4
 },
 "nbformat": 4,
 "nbformat_minor": 2
}
